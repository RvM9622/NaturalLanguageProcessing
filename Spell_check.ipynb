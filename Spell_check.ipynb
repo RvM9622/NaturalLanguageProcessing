{
  "nbformat": 4,
  "nbformat_minor": 0,
  "metadata": {
    "colab": {
      "provenance": [],
      "authorship_tag": "ABX9TyMeLUTauLC4LuVlyEuxgFWD"
    },
    "kernelspec": {
      "name": "python3",
      "display_name": "Python 3"
    },
    "language_info": {
      "name": "python"
    }
  },
  "cells": [
    {
      "cell_type": "code",
      "execution_count": null,
      "metadata": {
        "id": "0FjECtN_DsLS"
      },
      "outputs": [],
      "source": [
        "from textblob import TextBlob"
      ]
    },
    {
      "cell_type": "code",
      "source": [
        "import nltk\n",
        "from collections import Counter\n",
        "from nltk.corpus import words, brown\n",
        "import re"
      ],
      "metadata": {
        "id": "CBmZ0O5uW2gQ"
      },
      "execution_count": null,
      "outputs": []
    },
    {
      "cell_type": "code",
      "source": [
        "nltk.download('words')\n",
        "nltk.download('brown')"
      ],
      "metadata": {
        "colab": {
          "base_uri": "https://localhost:8080/"
        },
        "id": "gLlSJnKvXFbC",
        "outputId": "ae19cc37-14fd-4a02-e3fc-24d272cc1f99"
      },
      "execution_count": null,
      "outputs": [
        {
          "output_type": "stream",
          "name": "stderr",
          "text": [
            "[nltk_data] Downloading package words to /root/nltk_data...\n",
            "[nltk_data]   Unzipping corpora/words.zip.\n",
            "[nltk_data] Downloading package brown to /root/nltk_data...\n",
            "[nltk_data]   Unzipping corpora/brown.zip.\n"
          ]
        },
        {
          "output_type": "execute_result",
          "data": {
            "text/plain": [
              "True"
            ]
          },
          "metadata": {},
          "execution_count": 16
        }
      ]
    },
    {
      "cell_type": "code",
      "source": [
        "valid_words = set(words.words())\n",
        "word_freq = Counter(brown.words())\n",
        "total_words = sum(word_freq.values())"
      ],
      "metadata": {
        "id": "gUjbtIH3XWwc"
      },
      "execution_count": null,
      "outputs": []
    },
    {
      "cell_type": "code",
      "source": [
        "def edits1(word):\n",
        "  letters = 'abcdefghijklmnopqrstuvwxyz'\n",
        "  split = [(word[:i], word[i:]) for i in range(len(word)+1)]\n",
        "  delete = [L + R[1:] for L,R in split if R]\n",
        "  transpose = [L+R[1]+R[0]+R[2:] for L,R in split if len(R)>1]\n",
        "  replaces = [L+c+R[1:] for L,R in split if R for c in letters]\n",
        "  inserts = [L+c+R for L,R in split for c in letters]\n",
        "  return set(delete + transpose + replaces + inserts)"
      ],
      "metadata": {
        "id": "tI04dhgIGAiV"
      },
      "execution_count": null,
      "outputs": []
    },
    {
      "cell_type": "code",
      "source": [
        "x = set()\n",
        "def edits2(word):\n",
        "  for e1 in edits1(word):\n",
        "    for e2 in edits1(e1):\n",
        "      x.add(e2)\n",
        "  return x"
      ],
      "metadata": {
        "id": "0LT1Rx_PYbJX"
      },
      "execution_count": null,
      "outputs": []
    },
    {
      "cell_type": "code",
      "source": [
        "def known(words):\n",
        "  return set(w for w in words if w.lower() in valid_words)"
      ],
      "metadata": {
        "id": "wpLYYUtAJeY5"
      },
      "execution_count": null,
      "outputs": []
    },
    {
      "cell_type": "code",
      "source": [
        "def probability(word):\n",
        "  return word_freq[word.lower()]/total_words"
      ],
      "metadata": {
        "id": "RS9DCZxra6od"
      },
      "execution_count": null,
      "outputs": []
    },
    {
      "cell_type": "code",
      "source": [
        "def correct(word):\n",
        "  candidates = (\n",
        "      known([word]) or\n",
        "      known(edits1(word)) or\n",
        "      known(edits2(word)) or\n",
        "      [word]\n",
        "  )\n",
        "  return max(candidates, key = probability)"
      ],
      "metadata": {
        "id": "BpNJaSXZbSP_"
      },
      "execution_count": null,
      "outputs": []
    },
    {
      "cell_type": "code",
      "source": [
        "correct(\"speling\")"
      ],
      "metadata": {
        "colab": {
          "base_uri": "https://localhost:8080/",
          "height": 36
        },
        "id": "_j8brqS4c2S-",
        "outputId": "aa0a3f16-c93a-44ce-f921-8b9570e20d8e"
      },
      "execution_count": null,
      "outputs": [
        {
          "output_type": "execute_result",
          "data": {
            "text/plain": [
              "'spelling'"
            ],
            "application/vnd.google.colaboratory.intrinsic+json": {
              "type": "string"
            }
          },
          "metadata": {},
          "execution_count": 38
        }
      ]
    },
    {
      "cell_type": "code",
      "source": [
        "test_words = ['speling', 'korrect', 'appl', 'helo', 'beutiful']\n",
        "print('Correct Words')\n",
        "for word in test_words:\n",
        "  print(f\"{word} -> {correct(word)}\")"
      ],
      "metadata": {
        "colab": {
          "base_uri": "https://localhost:8080/"
        },
        "id": "WbymjKrKcEwd",
        "outputId": "57549771-ddfa-4dd1-9343-14d983fe5ccb"
      },
      "execution_count": null,
      "outputs": [
        {
          "output_type": "stream",
          "name": "stdout",
          "text": [
            "Correct Words\n",
            "speling -> spelling\n",
            "korrect -> correct\n",
            "appl -> apply\n",
            "helo -> help\n",
            "beutiful -> beautiful\n"
          ]
        }
      ]
    },
    {
      "cell_type": "markdown",
      "source": [
        "In NLP, commonly used module for spelling correction is TextBlob in python, which provide simple interface for spell checking.\n",
        "\n",
        "SymSpell, Spello are used for more advanced customized and domain specific spell checking"
      ],
      "metadata": {
        "id": "ECTDY82RiEO_"
      }
    },
    {
      "cell_type": "code",
      "source": [
        "text = 'I havv a speling mistak in this sentnce'\n",
        "\n",
        "blob = TextBlob(text)\n",
        "\n",
        "corrected_text = blob.correct()\n",
        "\n",
        "print(corrected_text)"
      ],
      "metadata": {
        "colab": {
          "base_uri": "https://localhost:8080/"
        },
        "id": "EnlUfK7Lco45",
        "outputId": "b9d031e6-8e86-44e0-af88-3b3cdba3f914"
      },
      "execution_count": null,
      "outputs": [
        {
          "output_type": "stream",
          "name": "stdout",
          "text": [
            "I have a spelling mistake in this sentence\n"
          ]
        }
      ]
    },
    {
      "cell_type": "markdown",
      "source": [
        "#Named Entity Recognition (NER)"
      ],
      "metadata": {
        "id": "wLaXkMgOk8-g"
      }
    },
    {
      "cell_type": "code",
      "source": [
        "import spacy\n",
        "\n",
        "nlp = spacy.load(\"en_core_web_sm\")\n",
        "\n",
        "text = 'Elon Musk is the CEO of Tesla, and he was born in Pretoria, Sputh Africa'\n",
        "\n",
        "doc = nlp(text)\n",
        "\n",
        "entities = []\n",
        "\n",
        "for entity in doc.ents:\n",
        "  entities.append((entity.text, entity.label_))\n",
        "\n",
        "for entity, label in entities:\n",
        "  print(f'Entity : {entity}, Label : {label}')\n"
      ],
      "metadata": {
        "colab": {
          "base_uri": "https://localhost:8080/"
        },
        "id": "RNH5MP3_ikhX",
        "outputId": "1ce60c1e-716b-4b01-d7ac-f8c8fbb6e3e1"
      },
      "execution_count": null,
      "outputs": [
        {
          "output_type": "stream",
          "name": "stdout",
          "text": [
            "Entity : Elon Musk, Label : PERSON\n",
            "Entity : Tesla, Label : ORG\n",
            "Entity : Pretoria, Label : GPE\n",
            "Entity : Sputh Africa, Label : GPE\n"
          ]
        }
      ]
    },
    {
      "cell_type": "code",
      "source": [],
      "metadata": {
        "id": "w4GyVYRom8xB"
      },
      "execution_count": null,
      "outputs": []
    }
  ]
}