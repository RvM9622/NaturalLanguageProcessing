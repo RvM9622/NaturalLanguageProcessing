{
  "nbformat": 4,
  "nbformat_minor": 0,
  "metadata": {
    "colab": {
      "provenance": [],
      "authorship_tag": "ABX9TyP4V9HjvF99ZOo41tspoKBq"
    },
    "kernelspec": {
      "name": "python3",
      "display_name": "Python 3"
    },
    "language_info": {
      "name": "python"
    }
  },
  "cells": [
    {
      "cell_type": "markdown",
      "source": [
        "#Correlation techniques in NLP\n",
        "\n"
      ],
      "metadata": {
        "id": "mDrqYXqubJjC"
      }
    },
    {
      "cell_type": "markdown",
      "source": [
        "In NLP, representing the correlation or realtionship of words in a numeric format typically involves techniques such as:\n",
        "\n",
        "* Co-occurance Matrix : Shows how frequently words appear together in a corpus\n",
        "*vCosine  Similarity : Measures the cosine of the angle b/w 2 word vectors in a vector space\n",
        "* Word Embedding : Represents words in dense vecor spaces capturing semantic relationships\n",
        "* TF-IDF Similarity : Highlights the importance of words in a document relative to the entire corpus\n",
        "\n",
        "\n"
      ],
      "metadata": {
        "id": "igpOIce5bZWX"
      }
    },
    {
      "cell_type": "markdown",
      "source": [
        "#Co-occurance Matrix"
      ],
      "metadata": {
        "id": "5QLieQNsczwF"
      }
    },
    {
      "cell_type": "code",
      "source": [
        "import numpy as np\n",
        "import pandas as pd\n",
        "from sklearn.feature_extraction.text import CountVectorizer"
      ],
      "metadata": {
        "id": "mO262JWzdLnR"
      },
      "execution_count": 1,
      "outputs": []
    },
    {
      "cell_type": "code",
      "source": [
        "corpus = ['the cat sat on the mat', 'the dog sat on the log']"
      ],
      "metadata": {
        "id": "H2jbPgg3dL-1"
      },
      "execution_count": 2,
      "outputs": []
    },
    {
      "cell_type": "code",
      "source": [
        "vectorizer = CountVectorizer()\n",
        "x = vectorizer.fit_transform(corpus)"
      ],
      "metadata": {
        "id": "dUNryCvodbiW"
      },
      "execution_count": 3,
      "outputs": []
    },
    {
      "cell_type": "code",
      "source": [
        "co_occurance_matrix = (x.T * x)"
      ],
      "metadata": {
        "id": "c20J-DUSdnKf"
      },
      "execution_count": 4,
      "outputs": []
    },
    {
      "cell_type": "code",
      "source": [
        "co_occurance_df = pd.DataFrame(co_occurance_matrix.A, index=vectorizer.get_feature_names_out(), columns=vectorizer.get_feature_names_out())\n",
        "\n",
        "print(f\"Co-occurance Matrix:\\n{co_occurance_df}\")"
      ],
      "metadata": {
        "colab": {
          "base_uri": "https://localhost:8080/"
        },
        "id": "chF8r44AdvzP",
        "outputId": "5cd9f6f2-48d5-4e88-d969-ca7366dd108b"
      },
      "execution_count": 6,
      "outputs": [
        {
          "output_type": "stream",
          "name": "stdout",
          "text": [
            "Co-occurance Matrix:\n",
            "     cat  dog  log  mat  on  sat  the\n",
            "cat    1    0    0    1   1    1    2\n",
            "dog    0    1    1    0   1    1    2\n",
            "log    0    1    1    0   1    1    2\n",
            "mat    1    0    0    1   1    1    2\n",
            "on     1    1    1    1   2    2    4\n",
            "sat    1    1    1    1   2    2    4\n",
            "the    2    2    2    2   4    4    8\n"
          ]
        }
      ]
    },
    {
      "cell_type": "code",
      "source": [
        "from sklearn.metrics.pairwise import cosine_similarity"
      ],
      "metadata": {
        "id": "lJbFlJsLeUeb"
      },
      "execution_count": 7,
      "outputs": []
    },
    {
      "cell_type": "code",
      "source": [
        "word_vectors = {\n",
        "    \"cat\" : [1, 0, 0, 0],\n",
        "    \"dog\" : [0, 1, 0, 0],\n",
        "    \"mat\" : [0, 0, 1, 0],\n",
        "    \"log\" : [0, 0, 0, 1]\n",
        "}"
      ],
      "metadata": {
        "id": "JCDQOO-cfdrP"
      },
      "execution_count": 9,
      "outputs": []
    },
    {
      "cell_type": "code",
      "source": [
        "vectors = np.array(list(word_vectors.values()))\n",
        "vectors"
      ],
      "metadata": {
        "colab": {
          "base_uri": "https://localhost:8080/"
        },
        "id": "sSpWAM67fwS0",
        "outputId": "9ce8222c-136f-417e-a774-a4a45d7637c8"
      },
      "execution_count": 10,
      "outputs": [
        {
          "output_type": "execute_result",
          "data": {
            "text/plain": [
              "array([[1, 0, 0, 0],\n",
              "       [0, 1, 0, 0],\n",
              "       [0, 0, 1, 0],\n",
              "       [0, 0, 0, 1]])"
            ]
          },
          "metadata": {},
          "execution_count": 10
        }
      ]
    },
    {
      "cell_type": "code",
      "source": [
        "cos_sim = cosine_similarity(vectors)\n",
        "cos_sim"
      ],
      "metadata": {
        "colab": {
          "base_uri": "https://localhost:8080/"
        },
        "id": "pDph0158f3kY",
        "outputId": "fbf828ec-a34a-47ba-adee-2b3fff36f5b1"
      },
      "execution_count": 11,
      "outputs": [
        {
          "output_type": "execute_result",
          "data": {
            "text/plain": [
              "array([[1., 0., 0., 0.],\n",
              "       [0., 1., 0., 0.],\n",
              "       [0., 0., 1., 0.],\n",
              "       [0., 0., 0., 1.]])"
            ]
          },
          "metadata": {},
          "execution_count": 11
        }
      ]
    },
    {
      "cell_type": "code",
      "source": [
        "cos_sim_df = pd.DataFrame(cos_sim, index=word_vectors.keys(), columns=word_vectors.keys())\n",
        "print(f\"Cosine Similarity Matrix Shape:\\n {cos_sim_df}\")\n"
      ],
      "metadata": {
        "colab": {
          "base_uri": "https://localhost:8080/"
        },
        "id": "Kbvkk-GqgWpi",
        "outputId": "cf9dc1eb-1cb3-431b-ac8c-ff82090f39d4"
      },
      "execution_count": 14,
      "outputs": [
        {
          "output_type": "stream",
          "name": "stdout",
          "text": [
            "Cosine Similarity Matrix Shape:\n",
            "      cat  dog  mat  log\n",
            "cat  1.0  0.0  0.0  0.0\n",
            "dog  0.0  1.0  0.0  0.0\n",
            "mat  0.0  0.0  1.0  0.0\n",
            "log  0.0  0.0  0.0  1.0\n"
          ]
        }
      ]
    },
    {
      "cell_type": "markdown",
      "source": [
        "CHATBOT"
      ],
      "metadata": {
        "id": "YgsMaHlBl0eI"
      }
    },
    {
      "cell_type": "code",
      "source": [
        "import nltk\n",
        "import numpy as np\n",
        "import random\n",
        "import string\n",
        "import warnings\n",
        "from sklearn.feature_extraction.text import TfidfVectorizer\n",
        "from sklearn.metrics.pairwise import cosine_similarity\n",
        "from nltk.corpus import wordnet\n",
        "from nltk.tokenize import word_tokenize\n",
        "from nltk.stem import WordNetLemmatizer\n",
        "\n",
        "nltk.download('punkt_tab')\n",
        "nltk.download('wordnet')"
      ],
      "metadata": {
        "colab": {
          "base_uri": "https://localhost:8080/"
        },
        "id": "-XKS1I1kmSKi",
        "outputId": "51bf3d86-7fb0-44f8-8c64-405b6c7a1df5"
      },
      "execution_count": 16,
      "outputs": [
        {
          "output_type": "stream",
          "name": "stderr",
          "text": [
            "[nltk_data] Downloading package punkt_tab to /root/nltk_data...\n",
            "[nltk_data]   Unzipping tokenizers/punkt_tab.zip.\n",
            "[nltk_data] Downloading package wordnet to /root/nltk_data...\n"
          ]
        },
        {
          "output_type": "execute_result",
          "data": {
            "text/plain": [
              "True"
            ]
          },
          "metadata": {},
          "execution_count": 16
        }
      ]
    },
    {
      "cell_type": "code",
      "source": [
        "chatbot_dict = {\n",
        "    \"hello\" : \"Hi, How can I help you\",\n",
        "    \"who are you\": \"I am a chatbot\",\n",
        "    \"how are you\": \"I am fine, thank you\",\n",
        "    \"bye\": \"Bye, take care\",\n",
        "    \"default\" : \"I did not understand what you said\"\n",
        "}"
      ],
      "metadata": {
        "id": "7WYjPeXxmqKK"
      },
      "execution_count": 20,
      "outputs": []
    },
    {
      "cell_type": "code",
      "source": [
        "chatbot_dict[\"hello\"]"
      ],
      "metadata": {
        "colab": {
          "base_uri": "https://localhost:8080/",
          "height": 36
        },
        "id": "KtLdfb-xp2MA",
        "outputId": "003dea47-7a7e-4e83-d1e7-741a99bdf010"
      },
      "execution_count": 21,
      "outputs": [
        {
          "output_type": "execute_result",
          "data": {
            "text/plain": [
              "'Hi, How can I help you'"
            ],
            "application/vnd.google.colaboratory.intrinsic+json": {
              "type": "string"
            }
          },
          "metadata": {},
          "execution_count": 21
        }
      ]
    },
    {
      "cell_type": "code",
      "source": [
        "import re\n",
        "def get_response(user_input):\n",
        "  user_input = user_input.lower()\n",
        "  for key in chatbot_dict.keys():\n",
        "    if re.match(key, user_input):\n",
        "      return chatbot_dict[key]\n",
        "  return chatbot_dict[\"default\"]"
      ],
      "metadata": {
        "id": "j0-qKCSrqBGR"
      },
      "execution_count": 22,
      "outputs": []
    },
    {
      "cell_type": "code",
      "source": [
        "def chat():\n",
        "  while True:\n",
        "    user_input = input(\"You: \")\n",
        "    if user_input.lower() == \"exit\":\n",
        "      print(\"Chatbot: Have a nice day\")\n",
        "      break\n",
        "    response = get_response(user_input)\n",
        "    print(\"Chatbot: \", response)"
      ],
      "metadata": {
        "id": "5w5nOVgsvoxx"
      },
      "execution_count": 25,
      "outputs": []
    },
    {
      "cell_type": "code",
      "source": [
        "chat()"
      ],
      "metadata": {
        "colab": {
          "base_uri": "https://localhost:8080/"
        },
        "id": "I6uhJp4RvwEz",
        "outputId": "97f16209-db3e-42ca-f8eb-a0ac88b44fe5"
      },
      "execution_count": 26,
      "outputs": [
        {
          "output_type": "stream",
          "name": "stdout",
          "text": [
            "You: Hello\n",
            "Chatbot:  Hi, How can I help you\n",
            "You: how are you\n",
            "Chatbot:  I am fine, thank you\n",
            "You: exit\n",
            "Chatbot: Have a nice day\n"
          ]
        }
      ]
    },
    {
      "cell_type": "code",
      "source": [],
      "metadata": {
        "id": "MoLjoknUvw19"
      },
      "execution_count": null,
      "outputs": []
    }
  ]
}